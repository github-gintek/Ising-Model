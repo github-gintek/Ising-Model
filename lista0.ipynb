{
 "cells": [
  {
   "cell_type": "markdown",
   "metadata": {},
   "source": [
    "Tu wpisz kod\n",
    "$$ S_{h} = \\frac{n}{\\sum_{i=1}^{n}\\frac{1}{x_{i}}} $$"
   ]
  },
  {
   "cell_type": "code",
   "execution_count": 15,
   "metadata": {},
   "outputs": [],
   "source": [
    "def harmonic_mean(data):\n",
    "    \"\"\"Return harmonic mean for given list of numbers.\"\"\"\n",
    "    if not data:\n",
    "        return None\n",
    "    negative_numbers = [num for num in data if num <= 0]\n",
    "    if negative_numbers:\n",
    "        return None\n",
    "    Sh = len(data)/sum(1/data)\n",
    "    raise NotImplementedError()"
   ]
  },
  {
   "cell_type": "code",
   "execution_count": 16,
   "metadata": {},
   "outputs": [
    {
     "ename": "ModuleNotFoundError",
     "evalue": "No module named 'nose'",
     "output_type": "error",
     "traceback": [
      "\u001b[1;31m---------------------------------------------------------------------------\u001b[0m",
      "\u001b[1;31mModuleNotFoundError\u001b[0m                       Traceback (most recent call last)",
      "Cell \u001b[1;32mIn[16], line 2\u001b[0m\n\u001b[0;32m      1\u001b[0m \u001b[38;5;66;03m# Sprawdzenie działania funkcji\u001b[39;00m\n\u001b[1;32m----> 2\u001b[0m \u001b[38;5;28;01mfrom\u001b[39;00m \u001b[38;5;21;01mnose\u001b[39;00m\u001b[38;5;21;01m.\u001b[39;00m\u001b[38;5;21;01mtools\u001b[39;00m \u001b[38;5;28;01mimport\u001b[39;00m assert_almost_equal, assert_raises\n\u001b[0;32m      4\u001b[0m assert_almost_equal(harmonic_mean([\u001b[38;5;241m2\u001b[39m, \u001b[38;5;241m3\u001b[39m, \u001b[38;5;241m5\u001b[39m, \u001b[38;5;241m7\u001b[39m, \u001b[38;5;241m8\u001b[39m]), \u001b[38;5;241m3.843\u001b[39m, places\u001b[38;5;241m=\u001b[39m\u001b[38;5;241m3\u001b[39m)\n\u001b[0;32m      5\u001b[0m assert_almost_equal(harmonic_mean([\u001b[38;5;241m2.5\u001b[39m, \u001b[38;5;241m5.23\u001b[39m, \u001b[38;5;241m8.64\u001b[39m, \u001b[38;5;241m9.87\u001b[39m, \u001b[38;5;241m23.5\u001b[39m]), \u001b[38;5;241m5.877\u001b[39m, places\u001b[38;5;241m=\u001b[39m\u001b[38;5;241m3\u001b[39m)\n",
      "\u001b[1;31mModuleNotFoundError\u001b[0m: No module named 'nose'"
     ]
    }
   ],
   "source": [
    "# Sprawdzenie działania funkcji\n",
    "from nose.tools import assert_almost_equal, assert_raises\n",
    "\n",
    "assert_almost_equal(harmonic_mean([2, 3, 5, 7, 8]), 3.843, places=3)\n",
    "assert_almost_equal(harmonic_mean([2.5, 5.23, 8.64, 9.87, 23.5]), 5.877, places=3)\n",
    "assert_raises(ValueError, harmonic_mean, [-1, 2])\n",
    "assert_raises(ValueError, harmonic_mean, [])"
   ]
  }
 ],
 "metadata": {
  "kernelspec": {
   "display_name": ".venv",
   "language": "python",
   "name": "python3"
  },
  "language_info": {
   "codemirror_mode": {
    "name": "ipython",
    "version": 3
   },
   "file_extension": ".py",
   "mimetype": "text/x-python",
   "name": "python",
   "nbconvert_exporter": "python",
   "pygments_lexer": "ipython3",
   "version": "3.10.8"
  }
 },
 "nbformat": 4,
 "nbformat_minor": 2
}
